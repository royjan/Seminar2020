{
 "cells": [
  {
   "cell_type": "markdown",
   "metadata": {},
   "source": [
    "<h2>Seminar 2020 - MultiThread & Pandas</h2>"
   ]
  },
  {
   "cell_type": "code",
   "execution_count": 5,
   "metadata": {},
   "outputs": [],
   "source": [
    "### import section ###\n",
    "from Utils.Preprocess import Preprocess\n",
    "from Algorithm.ThreadManager import ThreadManager\n",
    "from Utils.Log import writer, logger\n",
    "from Utils.FileUtils import FileUtils\n",
    "# change logger severity\n",
    "logger.set_logger_severity('debug')"
   ]
  },
  {
   "cell_type": "code",
   "execution_count": 6,
   "metadata": {},
   "outputs": [
    {
     "name": "stderr",
     "output_type": "stream",
     "text": [
      "2020-03-07 18:12:54,949 Thread [{'fit_intercept': True}] is running\n",
      "2020-03-07 18:12:54,953 Thread [{'normalize': False, 'fit_intercept': False}] is running\n",
      "2020-03-07 18:12:54,954 set of params: {'fit_intercept': True} scored 1959089299.5312617\n",
      "2020-03-07 18:12:54,957 set of params: {'normalize': False, 'fit_intercept': False} scored 1969209681.4041615\n",
      "2020-03-07 18:12:54,958 Thread [{'fit_intercept': True}] is finished\n",
      "2020-03-07 18:12:54,958 Thread [{'normalize': False, 'fit_intercept': False}] is finished\n",
      "2020-03-07 18:12:54,962 The best score is 1959089299.5312617 with these params: {'fit_intercept': True}\n"
     ]
    }
   ],
   "source": [
    "headers = ['Id', 'OverallQual', 'YearBuilt', 'OverallCond', 'OpenPorchSF']\n",
    "df1 = FileUtils.read_data_frame_from_path('Data/train_1.csv', headers)\n",
    "df2 = FileUtils.read_data_frame_from_path('Data/train_2.xlsx', headers)\n",
    "df3 = FileUtils.read_data_frame_from_path('Data/train_targets.csv')\n",
    "df_total = df1.append(df2).merge(df3, on='Id', how='left').fillna(\"None\")\n",
    "X_train, X_test, y_train, y_test = Preprocess.split_train_test_by_pandas(df_total, 'SalePrice')\n",
    "\n",
    "params = [{\"fit_intercept\": True},  {'normalize': False, \"fit_intercept\": False}]\n",
    "ThreadManager.running_threads_args(X_train, y_train, X_test, y_test, params)\n",
    "ThreadManager.wait_for_all_threads()\n",
    "best_result, best_params = ThreadManager.return_best_score(params)\n",
    "\n",
    "writer.info(f'The best score is {best_result} with these params: {best_params}')"
   ]
  },
  {
   "cell_type": "code",
   "execution_count": null,
   "metadata": {},
   "outputs": [],
   "source": []
  }
 ],
 "metadata": {
  "kernelspec": {
   "display_name": "Python 3",
   "language": "python",
   "name": "python3"
  },
  "language_info": {
   "codemirror_mode": {
    "name": "ipython",
    "version": 3
   },
   "file_extension": ".py",
   "mimetype": "text/x-python",
   "name": "python",
   "nbconvert_exporter": "python",
   "pygments_lexer": "ipython3",
   "version": "3.7.6"
  }
 },
 "nbformat": 4,
 "nbformat_minor": 2
}
