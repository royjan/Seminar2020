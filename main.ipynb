{
 "cells": [
  {
   "cell_type": "markdown",
   "metadata": {},
   "source": [
    "<h2>Seminar 2020 - MultiThread & Pandas</h2>"
   ]
  },
  {
   "cell_type": "code",
   "execution_count": 1,
   "metadata": {},
   "outputs": [],
   "source": [
    "### import section ###\n",
    "import pandas as pd\n",
    "from sklearn.linear_model import LinearRegression\n",
    "from sklearn.model_selection import train_test_split\n",
    "from sklearn.metrics import mean_squared_error\n",
    "from main import FileUtils\n",
    "from main import running_threads_args\n",
    "from sklearn.model_selection import train_test_split\n",
    "from Log import writer, logger\n",
    "# change logger severity\n",
    "logger.set_logger_severity('debug')"
   ]
  },
  {
   "cell_type": "code",
   "execution_count": 2,
   "metadata": {},
   "outputs": [
    {
     "name": "stderr",
     "output_type": "stream",
     "text": [
      "2020-03-05 17:12:32,615 Thread [{'fit_intercept': True}] is running\n",
      "2020-03-05 17:12:32,617 Thread [{'fit_intercept': False}] is running\n",
      "2020-03-05 17:12:32,621 Thread [{'normalize': False}] is running\n",
      "2020-03-05 17:12:32,625 Thread [{'fit_intercept': True}] is finished\n",
      "2020-03-05 17:12:32,628 Thread [{'fit_intercept': False}] is finished\n",
      "2020-03-05 17:12:32,629 Thread [{'normalize': False}] is finished\n",
      "2020-03-05 17:12:32,637 The best score is 2817446828.641316 with these params: {'fit_intercept': True}\n"
     ]
    }
   ],
   "source": [
    "### preprocess to merge between files to a dataframe ###\n",
    "headers = ['Id', 'OverallQual', 'YearBuilt', 'OverallCond', 'OpenPorchSF']\n",
    "df1 = FileUtils.read_data_frame_from_path('train_1.csv', headers)\n",
    "df2 = FileUtils.read_data_frame_from_path('train_2.xlsx', headers)\n",
    "df3 = FileUtils.read_data_frame_from_path('train_targets.csv')\n",
    "df_total = df1.append(df2).merge(df3, on='Id', how='left').fillna(\"None\")\n",
    "df_X = df_total.drop(['Id', 'SalePrice'], axis=1)\n",
    "df_y = df_total['SalePrice']\n",
    "\n",
    "### split train and test ###\n",
    "# df_X_ohe = pd.get_dummies(df_X) # one hot encoder\n",
    "X_train, X_test, y_train, y_test = train_test_split(df_X, df_y)\n",
    "\n",
    "### Hyperparameter check which is the best model ###\n",
    "params = [{\"fit_intercept\": True}, {\"fit_intercept\": False}, {'normalize': False}]\n",
    "best_result, best_params = running_threads_args(X_train, y_train, X_test, y_test,params)\n",
    "writer.info(f'The best score is {best_result} with these params: {best_params}')"
   ]
  }
 ],
 "metadata": {
  "kernelspec": {
   "display_name": "Python 3",
   "language": "python",
   "name": "python3"
  },
  "language_info": {
   "codemirror_mode": {
    "name": "ipython",
    "version": 3
   },
   "file_extension": ".py",
   "mimetype": "text/x-python",
   "name": "python",
   "nbconvert_exporter": "python",
   "pygments_lexer": "ipython3",
   "version": "3.7.6"
  }
 },
 "nbformat": 4,
 "nbformat_minor": 2
}
