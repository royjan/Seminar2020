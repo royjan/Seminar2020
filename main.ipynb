{
 "cells": [
  {
   "cell_type": "markdown",
   "metadata": {},
   "source": [
    "<h2>Seminar 2020 - MultiThread & Pandas</h2>"
   ]
  },
  {
   "cell_type": "code",
   "execution_count": 11,
   "metadata": {},
   "outputs": [
    {
     "name": "stderr",
     "output_type": "stream",
     "text": [
      "2020-03-10 09:41:01,045 Loaded backend module://ipykernel.pylab.backend_inline version unknown.\n"
     ]
    }
   ],
   "source": [
    "### import section ###\n",
    "from Utils.Preprocess import Preprocess\n",
    "from Algorithm.ThreadManager import ThreadManager\n",
    "from Utils.Log import writer, logger\n",
    "from Utils.FileUtils import FileUtils\n",
    "import numpy as np\n",
    "from matplotlib import pyplot as plt\n",
    "from sklearn.tree import DecisionTreeRegressor\n",
    "from sklearn.svm import SVC\n",
    "from Algorithm import Model\n",
    "%matplotlib inline"
   ]
  },
  {
   "cell_type": "code",
   "execution_count": 12,
   "metadata": {},
   "outputs": [
    {
     "name": "stderr",
     "output_type": "stream",
     "text": [
      "2020-03-10 09:41:01,085 Change level from DEBUG to INFO\n"
     ]
    }
   ],
   "source": [
    "# change logger severity\n",
    "logger.set_logger_severity('info')"
   ]
  },
  {
   "cell_type": "code",
   "execution_count": 13,
   "metadata": {},
   "outputs": [],
   "source": [
    "headers = ['Id', 'OverallQual', 'YearBuilt', 'OverallCond', 'OpenPorchSF']\n",
    "df1 = FileUtils.read_data_frame_from_path('Data/train_1.csv', headers)\n",
    "df2 = FileUtils.read_data_frame_from_path('Data/train_2.xlsx', headers)\n",
    "df3 = FileUtils.read_data_frame_from_path('Data/train_targets.csv')\n",
    "df_total = df1.append(df2).merge(df3, on='Id', how='left')\n",
    "pp = Preprocess(df_total, 'SalePrice')\n",
    "mean_df = Preprocess.replace_nan(pp)\n",
    "X_train, X_test, y_train, y_test = pp.split_train_test_by_pandas()"
   ]
  },
  {
   "cell_type": "code",
   "execution_count": 14,
   "metadata": {},
   "outputs": [
    {
     "name": "stderr",
     "output_type": "stream",
     "text": [
      "2020-03-10 09:41:03,398 The best score is LinearRegression(copy_X=True, fit_intercept=False, n_jobs=None, normalize=False) with these params: 1969209681.4041615\n"
     ]
    }
   ],
   "source": [
    "params = [{'model': SVC, \"C\": 0.4}, {'normalize': False, \"fit_intercept\": False},\n",
    "          {'normalize': True, \"fit_intercept\": False}, {'model': SVC, \"degree\": 4},\n",
    "          {'model': DecisionTreeRegressor}]\n",
    "ThreadManager.running_threads_args(X_train, y_train, X_test, y_test, params)\n",
    "ThreadManager.wait_for_all_threads()\n",
    "best_params, best_result = ThreadManager.return_best_score()\n",
    "writer.info(f'The best score is {best_result} with these params: {best_params}')"
   ]
  },
  {
   "cell_type": "code",
   "execution_count": 15,
   "metadata": {},
   "outputs": [
    {
     "data": {
      "image/png": "[encoded data removed]",
      "text/plain": [
       "<Figure size 1152x432 with 1 Axes>"
      ]
     },
     "metadata": {
      "needs_background": "light"
     },
     "output_type": "display_data"
    }
   ],
   "source": [
    "y_label = [item.score for item in ThreadManager.results]\n",
    "x_label = np.arange(len(y_label))\n",
    "models_labels = [Model.get_model_name(clf) for clf in ThreadManager.results]\n",
    "plt.figure(figsize=(16,6))\n",
    "plt.bar(x_label, y_label)\n",
    "plt.xticks(range(len(models_labels)), models_labels)\n",
    "plt.xlabel(\"Model\")\n",
    "plt.ylabel(\"Score\")\n",
    "plt.show()\n",
    "ThreadManager.reset_values()"
   ]
  }
 ],
 "metadata": {
  "kernelspec": {
   "display_name": "Python 3",
   "language": "python",
   "name": "python3"
  },
  "language_info": {
   "codemirror_mode": {
    "name": "ipython",
    "version": 3
   },
   "file_extension": ".py",
   "mimetype": "text/x-python",
   "name": "python",
   "nbconvert_exporter": "python",
   "pygments_lexer": "ipython3",
   "version": "3.7.6"
  }
 },
 "nbformat": 4,
 "nbformat_minor": 2
}
